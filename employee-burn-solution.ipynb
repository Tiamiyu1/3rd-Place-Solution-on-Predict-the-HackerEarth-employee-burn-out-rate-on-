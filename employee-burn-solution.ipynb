{
 "cells": [
  {
   "cell_type": "code",
   "execution_count": 1,
   "metadata": {},
   "outputs": [],
   "source": [
    "import numpy as np\n",
    "import pandas as pd\n",
    "from sklearn.model_selection import cross_val_score\n",
    "from sklearn.model_selection import KFold\n",
    "from scipy.sparse import hstack\n",
    "from sklearn.metrics import roc_auc_score, accuracy_score, log_loss, r2_score\n",
    "from tqdm import tqdm_notebook, tqdm\n",
    "from scipy import stats\n",
    "import warnings\n",
    "import seaborn as sns\n",
    "from matplotlib import pyplot as plt\n",
    "%matplotlib inline\n",
    "from sklearn.metrics import mean_squared_error, mean_squared_log_error\n",
    "from sklearn.feature_selection import RFE\n",
    "from sklearn.model_selection import train_test_split\n",
    "from sklearn.model_selection import cross_val_score\n",
    "from sklearn.model_selection import KFold, StratifiedKFold\n",
    "from sklearn.preprocessing import StandardScaler\n",
    "from sklearn.impute import SimpleImputer\n",
    "from sklearn.model_selection import GridSearchCV\n",
    "from sklearn.model_selection import cross_validate\n",
    "from sklearn import model_selection\n",
    "import category_encoders as ce\n",
    "import xgboost as xgb\n",
    "import lightgbm as lgb\n",
    "from sklearn import metrics\n",
    "from scipy.optimize import minimize\n",
    "from lightgbm import LGBMRegressor\n",
    "from catboost import CatBoostRegressor\n",
    "warnings.filterwarnings('ignore')"
   ]
  },
  {
   "cell_type": "code",
   "execution_count": 3,
   "metadata": {},
   "outputs": [
    {
     "name": "stdout",
     "output_type": "stream",
     "text": [
      "1.0.2\n"
     ]
    }
   ],
   "source": [
    "import xgboost\n",
    "print(xgboost.__version__)"
   ]
  },
  {
   "cell_type": "code",
   "execution_count": 4,
   "metadata": {},
   "outputs": [
    {
     "name": "stdout",
     "output_type": "stream",
     "text": [
      "0.23\n"
     ]
    }
   ],
   "source": [
    "import catboost\n",
    "print(catboost.__version__)"
   ]
  },
  {
   "cell_type": "code",
   "execution_count": null,
   "metadata": {},
   "outputs": [],
   "source": []
  },
  {
   "cell_type": "code",
   "execution_count": 592,
   "metadata": {},
   "outputs": [],
   "source": [
    "train = pd.read_csv('train.csv')\n",
    "test = pd.read_csv('test.csv')\n",
    "sub = pd.read_csv('sample_submission.csv')"
   ]
  },
  {
   "cell_type": "code",
   "execution_count": 593,
   "metadata": {},
   "outputs": [
    {
     "data": {
      "text/html": [
       "<div>\n",
       "<style scoped>\n",
       "    .dataframe tbody tr th:only-of-type {\n",
       "        vertical-align: middle;\n",
       "    }\n",
       "\n",
       "    .dataframe tbody tr th {\n",
       "        vertical-align: top;\n",
       "    }\n",
       "\n",
       "    .dataframe thead th {\n",
       "        text-align: right;\n",
       "    }\n",
       "</style>\n",
       "<table border=\"1\" class=\"dataframe\">\n",
       "  <thead>\n",
       "    <tr style=\"text-align: right;\">\n",
       "      <th></th>\n",
       "      <th>Employee ID</th>\n",
       "      <th>Date of Joining</th>\n",
       "      <th>Gender</th>\n",
       "      <th>Company Type</th>\n",
       "      <th>WFH Setup Available</th>\n",
       "      <th>Designation</th>\n",
       "      <th>Resource Allocation</th>\n",
       "      <th>Mental Fatigue Score</th>\n",
       "      <th>Burn Rate</th>\n",
       "    </tr>\n",
       "  </thead>\n",
       "  <tbody>\n",
       "    <tr>\n",
       "      <th>0</th>\n",
       "      <td>fffe32003000360033003200</td>\n",
       "      <td>2008-09-30</td>\n",
       "      <td>Female</td>\n",
       "      <td>Service</td>\n",
       "      <td>No</td>\n",
       "      <td>2.0</td>\n",
       "      <td>3.0</td>\n",
       "      <td>3.8</td>\n",
       "      <td>0.16</td>\n",
       "    </tr>\n",
       "    <tr>\n",
       "      <th>1</th>\n",
       "      <td>fffe3700360033003500</td>\n",
       "      <td>2008-11-30</td>\n",
       "      <td>Male</td>\n",
       "      <td>Service</td>\n",
       "      <td>Yes</td>\n",
       "      <td>1.0</td>\n",
       "      <td>2.0</td>\n",
       "      <td>5.0</td>\n",
       "      <td>0.36</td>\n",
       "    </tr>\n",
       "    <tr>\n",
       "      <th>2</th>\n",
       "      <td>fffe31003300320037003900</td>\n",
       "      <td>2008-03-10</td>\n",
       "      <td>Female</td>\n",
       "      <td>Product</td>\n",
       "      <td>Yes</td>\n",
       "      <td>2.0</td>\n",
       "      <td>NaN</td>\n",
       "      <td>5.8</td>\n",
       "      <td>0.49</td>\n",
       "    </tr>\n",
       "    <tr>\n",
       "      <th>3</th>\n",
       "      <td>fffe32003400380032003900</td>\n",
       "      <td>2008-11-03</td>\n",
       "      <td>Male</td>\n",
       "      <td>Service</td>\n",
       "      <td>Yes</td>\n",
       "      <td>1.0</td>\n",
       "      <td>1.0</td>\n",
       "      <td>2.6</td>\n",
       "      <td>0.20</td>\n",
       "    </tr>\n",
       "    <tr>\n",
       "      <th>4</th>\n",
       "      <td>fffe31003900340031003600</td>\n",
       "      <td>2008-07-24</td>\n",
       "      <td>Female</td>\n",
       "      <td>Service</td>\n",
       "      <td>No</td>\n",
       "      <td>3.0</td>\n",
       "      <td>7.0</td>\n",
       "      <td>6.9</td>\n",
       "      <td>0.52</td>\n",
       "    </tr>\n",
       "  </tbody>\n",
       "</table>\n",
       "</div>"
      ],
      "text/plain": [
       "                Employee ID Date of Joining  Gender Company Type  \\\n",
       "0  fffe32003000360033003200      2008-09-30  Female      Service   \n",
       "1      fffe3700360033003500      2008-11-30    Male      Service   \n",
       "2  fffe31003300320037003900      2008-03-10  Female      Product   \n",
       "3  fffe32003400380032003900      2008-11-03    Male      Service   \n",
       "4  fffe31003900340031003600      2008-07-24  Female      Service   \n",
       "\n",
       "  WFH Setup Available  Designation  Resource Allocation  Mental Fatigue Score  \\\n",
       "0                  No          2.0                  3.0                   3.8   \n",
       "1                 Yes          1.0                  2.0                   5.0   \n",
       "2                 Yes          2.0                  NaN                   5.8   \n",
       "3                 Yes          1.0                  1.0                   2.6   \n",
       "4                  No          3.0                  7.0                   6.9   \n",
       "\n",
       "   Burn Rate  \n",
       "0       0.16  \n",
       "1       0.36  \n",
       "2       0.49  \n",
       "3       0.20  \n",
       "4       0.52  "
      ]
     },
     "execution_count": 593,
     "metadata": {},
     "output_type": "execute_result"
    }
   ],
   "source": [
    "train.head()"
   ]
  },
  {
   "cell_type": "code",
   "execution_count": 594,
   "metadata": {},
   "outputs": [
    {
     "data": {
      "text/html": [
       "<div>\n",
       "<style scoped>\n",
       "    .dataframe tbody tr th:only-of-type {\n",
       "        vertical-align: middle;\n",
       "    }\n",
       "\n",
       "    .dataframe tbody tr th {\n",
       "        vertical-align: top;\n",
       "    }\n",
       "\n",
       "    .dataframe thead th {\n",
       "        text-align: right;\n",
       "    }\n",
       "</style>\n",
       "<table border=\"1\" class=\"dataframe\">\n",
       "  <thead>\n",
       "    <tr style=\"text-align: right;\">\n",
       "      <th></th>\n",
       "      <th>Employee ID</th>\n",
       "      <th>Date of Joining</th>\n",
       "      <th>Gender</th>\n",
       "      <th>Company Type</th>\n",
       "      <th>WFH Setup Available</th>\n",
       "      <th>Designation</th>\n",
       "      <th>Resource Allocation</th>\n",
       "      <th>Mental Fatigue Score</th>\n",
       "    </tr>\n",
       "  </thead>\n",
       "  <tbody>\n",
       "    <tr>\n",
       "      <th>0</th>\n",
       "      <td>fffe31003300390039003000</td>\n",
       "      <td>2008-12-10</td>\n",
       "      <td>Female</td>\n",
       "      <td>Service</td>\n",
       "      <td>No</td>\n",
       "      <td>2.0</td>\n",
       "      <td>5.0</td>\n",
       "      <td>7.7</td>\n",
       "    </tr>\n",
       "    <tr>\n",
       "      <th>1</th>\n",
       "      <td>fffe31003300310037003800</td>\n",
       "      <td>2008-08-14</td>\n",
       "      <td>Female</td>\n",
       "      <td>Product</td>\n",
       "      <td>Yes</td>\n",
       "      <td>1.0</td>\n",
       "      <td>2.0</td>\n",
       "      <td>5.2</td>\n",
       "    </tr>\n",
       "    <tr>\n",
       "      <th>2</th>\n",
       "      <td>fffe33003400380035003900</td>\n",
       "      <td>2008-11-13</td>\n",
       "      <td>Male</td>\n",
       "      <td>Product</td>\n",
       "      <td>Yes</td>\n",
       "      <td>1.0</td>\n",
       "      <td>3.0</td>\n",
       "      <td>5.9</td>\n",
       "    </tr>\n",
       "    <tr>\n",
       "      <th>3</th>\n",
       "      <td>fffe3100370039003200</td>\n",
       "      <td>2008-02-07</td>\n",
       "      <td>Female</td>\n",
       "      <td>Service</td>\n",
       "      <td>No</td>\n",
       "      <td>3.0</td>\n",
       "      <td>6.0</td>\n",
       "      <td>4.6</td>\n",
       "    </tr>\n",
       "    <tr>\n",
       "      <th>4</th>\n",
       "      <td>fffe32003600390036003700</td>\n",
       "      <td>2008-07-17</td>\n",
       "      <td>Female</td>\n",
       "      <td>Product</td>\n",
       "      <td>No</td>\n",
       "      <td>2.0</td>\n",
       "      <td>5.0</td>\n",
       "      <td>6.4</td>\n",
       "    </tr>\n",
       "  </tbody>\n",
       "</table>\n",
       "</div>"
      ],
      "text/plain": [
       "                Employee ID Date of Joining  Gender Company Type  \\\n",
       "0  fffe31003300390039003000      2008-12-10  Female      Service   \n",
       "1  fffe31003300310037003800      2008-08-14  Female      Product   \n",
       "2  fffe33003400380035003900      2008-11-13    Male      Product   \n",
       "3      fffe3100370039003200      2008-02-07  Female      Service   \n",
       "4  fffe32003600390036003700      2008-07-17  Female      Product   \n",
       "\n",
       "  WFH Setup Available  Designation  Resource Allocation  Mental Fatigue Score  \n",
       "0                  No          2.0                  5.0                   7.7  \n",
       "1                 Yes          1.0                  2.0                   5.2  \n",
       "2                 Yes          1.0                  3.0                   5.9  \n",
       "3                  No          3.0                  6.0                   4.6  \n",
       "4                  No          2.0                  5.0                   6.4  "
      ]
     },
     "execution_count": 594,
     "metadata": {},
     "output_type": "execute_result"
    }
   ],
   "source": [
    "test.head()"
   ]
  },
  {
   "cell_type": "code",
   "execution_count": 595,
   "metadata": {},
   "outputs": [
    {
     "name": "stdout",
     "output_type": "stream",
     "text": [
      "------------------------------------\n",
      "fffe33003200350039003300    1\n",
      "fffe32003400370037003700    1\n",
      "fffe3800320032003600        1\n",
      "fffe3600350033003900        1\n",
      "fffe3500330033003300        1\n",
      "                           ..\n",
      "fffe3600330031003200        1\n",
      "fffe32003700360034003200    1\n",
      "fffe32003400320031003500    1\n",
      "fffe31003700390037003600    1\n",
      "fffe32003000320039003100    1\n",
      "Name: Employee ID, Length: 22750, dtype: int64\n",
      "------------------------------------\n",
      "2008-01-06    86\n",
      "2008-05-21    85\n",
      "2008-02-04    82\n",
      "2008-07-16    81\n",
      "2008-01-29    80\n",
      "              ..\n",
      "2008-07-06    44\n",
      "2008-06-27    44\n",
      "2008-12-24    43\n",
      "2008-07-04    43\n",
      "2008-12-07    39\n",
      "Name: Date of Joining, Length: 366, dtype: int64\n",
      "------------------------------------\n",
      "Female    11908\n",
      "Male      10842\n",
      "Name: Gender, dtype: int64\n",
      "------------------------------------\n",
      "Service    14833\n",
      "Product     7917\n",
      "Name: Company Type, dtype: int64\n",
      "------------------------------------\n",
      "Yes    12290\n",
      "No     10460\n",
      "Name: WFH Setup Available, dtype: int64\n",
      "------------------------------------\n",
      "2.0    7588\n",
      "3.0    5985\n",
      "1.0    4881\n",
      "4.0    2391\n",
      "0.0    1507\n",
      "5.0     398\n",
      "Name: Designation, dtype: int64\n",
      "------------------------------------\n",
      "4.0     3893\n",
      "5.0     3861\n",
      "3.0     3192\n",
      "6.0     2943\n",
      "2.0     2075\n",
      "7.0     1965\n",
      "1.0     1791\n",
      "8.0     1044\n",
      "9.0      446\n",
      "10.0     159\n",
      "Name: Resource Allocation, dtype: int64\n",
      "------------------------------------\n",
      "6.0    470\n",
      "5.8    464\n",
      "5.9    458\n",
      "6.1    457\n",
      "6.3    454\n",
      "      ... \n",
      "0.5     24\n",
      "0.2     23\n",
      "0.4     19\n",
      "0.1     17\n",
      "0.3     13\n",
      "Name: Mental Fatigue Score, Length: 101, dtype: int64\n",
      "------------------------------------\n",
      "0.47    475\n",
      "0.43    444\n",
      "0.41    434\n",
      "0.45    431\n",
      "0.50    428\n",
      "       ... \n",
      "0.98     18\n",
      "0.95     17\n",
      "0.97     17\n",
      "0.96     13\n",
      "0.99      8\n",
      "Name: Burn Rate, Length: 101, dtype: int64\n"
     ]
    }
   ],
   "source": [
    "# getting the counts of each customer\n",
    "for cols in train.columns:\n",
    "    print('------------------------------------')\n",
    "    print(train[cols].value_counts())"
   ]
  },
  {
   "cell_type": "code",
   "execution_count": 596,
   "metadata": {},
   "outputs": [
    {
     "name": "stdout",
     "output_type": "stream",
     "text": [
      "Total shape of the train (22750, 9)\n",
      "Total rows of the train 22750\n",
      "Total columns of the train 9\n"
     ]
    }
   ],
   "source": [
    "print('Total shape of the train', train.shape)\n",
    "print('Total rows of the train', train.shape[0])\n",
    "print('Total columns of the train', train.shape[1])"
   ]
  },
  {
   "cell_type": "code",
   "execution_count": 597,
   "metadata": {},
   "outputs": [
    {
     "name": "stdout",
     "output_type": "stream",
     "text": [
      "Total shape of the test (12250, 8)\n",
      "Total rows of the test 12250\n",
      "Total columns of the test 8\n"
     ]
    }
   ],
   "source": [
    "print('Total shape of the test', test.shape)\n",
    "print('Total rows of the test', test.shape[0])\n",
    "print('Total columns of the test', test.shape[1])"
   ]
  },
  {
   "cell_type": "code",
   "execution_count": 598,
   "metadata": {},
   "outputs": [
    {
     "data": {
      "text/plain": [
       "<matplotlib.axes._subplots.AxesSubplot at 0x1dd7a7a9d48>"
      ]
     },
     "execution_count": 598,
     "metadata": {},
     "output_type": "execute_result"
    },
    {
     "data": {
      "image/png": "[encoded data removed]",
      "text/plain": [
       "<Figure size 432x288 with 1 Axes>"
      ]
     },
     "metadata": {
      "needs_background": "light"
     },
     "output_type": "display_data"
    }
   ],
   "source": [
    "train['Burn Rate'].hist()"
   ]
  },
  {
   "cell_type": "code",
   "execution_count": 599,
   "metadata": {},
   "outputs": [
    {
     "data": {
      "text/html": [
       "<div>\n",
       "<style scoped>\n",
       "    .dataframe tbody tr th:only-of-type {\n",
       "        vertical-align: middle;\n",
       "    }\n",
       "\n",
       "    .dataframe tbody tr th {\n",
       "        vertical-align: top;\n",
       "    }\n",
       "\n",
       "    .dataframe thead th {\n",
       "        text-align: right;\n",
       "    }\n",
       "</style>\n",
       "<table border=\"1\" class=\"dataframe\">\n",
       "  <thead>\n",
       "    <tr style=\"text-align: right;\">\n",
       "      <th></th>\n",
       "      <th>Designation</th>\n",
       "      <th>Resource Allocation</th>\n",
       "      <th>Mental Fatigue Score</th>\n",
       "      <th>Burn Rate</th>\n",
       "    </tr>\n",
       "  </thead>\n",
       "  <tbody>\n",
       "    <tr>\n",
       "      <th>count</th>\n",
       "      <td>22750.000000</td>\n",
       "      <td>21369.000000</td>\n",
       "      <td>20633.000000</td>\n",
       "      <td>21626.000000</td>\n",
       "    </tr>\n",
       "    <tr>\n",
       "      <th>mean</th>\n",
       "      <td>2.178725</td>\n",
       "      <td>4.481398</td>\n",
       "      <td>5.728188</td>\n",
       "      <td>0.452005</td>\n",
       "    </tr>\n",
       "    <tr>\n",
       "      <th>std</th>\n",
       "      <td>1.135145</td>\n",
       "      <td>2.047211</td>\n",
       "      <td>1.920839</td>\n",
       "      <td>0.198226</td>\n",
       "    </tr>\n",
       "    <tr>\n",
       "      <th>min</th>\n",
       "      <td>0.000000</td>\n",
       "      <td>1.000000</td>\n",
       "      <td>0.000000</td>\n",
       "      <td>0.000000</td>\n",
       "    </tr>\n",
       "    <tr>\n",
       "      <th>25%</th>\n",
       "      <td>1.000000</td>\n",
       "      <td>3.000000</td>\n",
       "      <td>4.600000</td>\n",
       "      <td>0.310000</td>\n",
       "    </tr>\n",
       "    <tr>\n",
       "      <th>50%</th>\n",
       "      <td>2.000000</td>\n",
       "      <td>4.000000</td>\n",
       "      <td>5.900000</td>\n",
       "      <td>0.450000</td>\n",
       "    </tr>\n",
       "    <tr>\n",
       "      <th>75%</th>\n",
       "      <td>3.000000</td>\n",
       "      <td>6.000000</td>\n",
       "      <td>7.100000</td>\n",
       "      <td>0.590000</td>\n",
       "    </tr>\n",
       "    <tr>\n",
       "      <th>max</th>\n",
       "      <td>5.000000</td>\n",
       "      <td>10.000000</td>\n",
       "      <td>10.000000</td>\n",
       "      <td>1.000000</td>\n",
       "    </tr>\n",
       "  </tbody>\n",
       "</table>\n",
       "</div>"
      ],
      "text/plain": [
       "        Designation  Resource Allocation  Mental Fatigue Score     Burn Rate\n",
       "count  22750.000000         21369.000000          20633.000000  21626.000000\n",
       "mean       2.178725             4.481398              5.728188      0.452005\n",
       "std        1.135145             2.047211              1.920839      0.198226\n",
       "min        0.000000             1.000000              0.000000      0.000000\n",
       "25%        1.000000             3.000000              4.600000      0.310000\n",
       "50%        2.000000             4.000000              5.900000      0.450000\n",
       "75%        3.000000             6.000000              7.100000      0.590000\n",
       "max        5.000000            10.000000             10.000000      1.000000"
      ]
     },
     "execution_count": 599,
     "metadata": {},
     "output_type": "execute_result"
    }
   ],
   "source": [
    "train.describe()"
   ]
  },
  {
   "cell_type": "code",
   "execution_count": 600,
   "metadata": {},
   "outputs": [
    {
     "data": {
      "text/plain": [
       "Employee ID                0\n",
       "Date of Joining            0\n",
       "Gender                     0\n",
       "Company Type               0\n",
       "WFH Setup Available        0\n",
       "Designation                0\n",
       "Resource Allocation     1381\n",
       "Mental Fatigue Score    2117\n",
       "Burn Rate               1124\n",
       "dtype: int64"
      ]
     },
     "execution_count": 600,
     "metadata": {},
     "output_type": "execute_result"
    }
   ],
   "source": [
    "train.isnull().sum()"
   ]
  },
  {
   "cell_type": "code",
   "execution_count": 601,
   "metadata": {},
   "outputs": [
    {
     "data": {
      "text/plain": [
       "Employee ID             0\n",
       "Date of Joining         0\n",
       "Gender                  0\n",
       "Company Type            0\n",
       "WFH Setup Available     0\n",
       "Designation             0\n",
       "Resource Allocation     0\n",
       "Mental Fatigue Score    0\n",
       "dtype: int64"
      ]
     },
     "execution_count": 601,
     "metadata": {},
     "output_type": "execute_result"
    }
   ],
   "source": [
    "test.isnull().sum()"
   ]
  },
  {
   "cell_type": "markdown",
   "metadata": {},
   "source": [
    "Ideally we remove the missing value for burn rate"
   ]
  },
  {
   "cell_type": "code",
   "execution_count": 602,
   "metadata": {},
   "outputs": [],
   "source": [
    "train = train.dropna(subset=['Burn Rate', 'Mental Fatigue Score', 'Resource Allocation']).reset_index(drop=True)"
   ]
  },
  {
   "cell_type": "code",
   "execution_count": 603,
   "metadata": {},
   "outputs": [
    {
     "name": "stdout",
     "output_type": "stream",
     "text": [
      "Total shape of the train (18590, 9)\n",
      "Total rows of the train 18590\n",
      "Total columns of the train 9\n"
     ]
    }
   ],
   "source": [
    "print('Total shape of the train', train.shape)\n",
    "print('Total rows of the train', train.shape[0])\n",
    "print('Total columns of the train', train.shape[1])"
   ]
  },
  {
   "cell_type": "code",
   "execution_count": 604,
   "metadata": {},
   "outputs": [
    {
     "data": {
      "text/html": [
       "<div>\n",
       "<style scoped>\n",
       "    .dataframe tbody tr th:only-of-type {\n",
       "        vertical-align: middle;\n",
       "    }\n",
       "\n",
       "    .dataframe tbody tr th {\n",
       "        vertical-align: top;\n",
       "    }\n",
       "\n",
       "    .dataframe thead th {\n",
       "        text-align: right;\n",
       "    }\n",
       "</style>\n",
       "<table border=\"1\" class=\"dataframe\">\n",
       "  <thead>\n",
       "    <tr style=\"text-align: right;\">\n",
       "      <th></th>\n",
       "      <th>Designation</th>\n",
       "      <th>Resource Allocation</th>\n",
       "      <th>Mental Fatigue Score</th>\n",
       "      <th>Burn Rate</th>\n",
       "    </tr>\n",
       "  </thead>\n",
       "  <tbody>\n",
       "    <tr>\n",
       "      <th>count</th>\n",
       "      <td>18590.000000</td>\n",
       "      <td>18590.000000</td>\n",
       "      <td>18590.000000</td>\n",
       "      <td>18590.000000</td>\n",
       "    </tr>\n",
       "    <tr>\n",
       "      <th>mean</th>\n",
       "      <td>2.179398</td>\n",
       "      <td>4.486552</td>\n",
       "      <td>5.732173</td>\n",
       "      <td>0.452444</td>\n",
       "    </tr>\n",
       "    <tr>\n",
       "      <th>std</th>\n",
       "      <td>1.133148</td>\n",
       "      <td>2.044848</td>\n",
       "      <td>1.920547</td>\n",
       "      <td>0.197848</td>\n",
       "    </tr>\n",
       "    <tr>\n",
       "      <th>min</th>\n",
       "      <td>0.000000</td>\n",
       "      <td>1.000000</td>\n",
       "      <td>0.000000</td>\n",
       "      <td>0.000000</td>\n",
       "    </tr>\n",
       "    <tr>\n",
       "      <th>25%</th>\n",
       "      <td>1.000000</td>\n",
       "      <td>3.000000</td>\n",
       "      <td>4.600000</td>\n",
       "      <td>0.320000</td>\n",
       "    </tr>\n",
       "    <tr>\n",
       "      <th>50%</th>\n",
       "      <td>2.000000</td>\n",
       "      <td>4.000000</td>\n",
       "      <td>5.900000</td>\n",
       "      <td>0.450000</td>\n",
       "    </tr>\n",
       "    <tr>\n",
       "      <th>75%</th>\n",
       "      <td>3.000000</td>\n",
       "      <td>6.000000</td>\n",
       "      <td>7.100000</td>\n",
       "      <td>0.590000</td>\n",
       "    </tr>\n",
       "    <tr>\n",
       "      <th>max</th>\n",
       "      <td>5.000000</td>\n",
       "      <td>10.000000</td>\n",
       "      <td>10.000000</td>\n",
       "      <td>1.000000</td>\n",
       "    </tr>\n",
       "  </tbody>\n",
       "</table>\n",
       "</div>"
      ],
      "text/plain": [
       "        Designation  Resource Allocation  Mental Fatigue Score     Burn Rate\n",
       "count  18590.000000         18590.000000          18590.000000  18590.000000\n",
       "mean       2.179398             4.486552              5.732173      0.452444\n",
       "std        1.133148             2.044848              1.920547      0.197848\n",
       "min        0.000000             1.000000              0.000000      0.000000\n",
       "25%        1.000000             3.000000              4.600000      0.320000\n",
       "50%        2.000000             4.000000              5.900000      0.450000\n",
       "75%        3.000000             6.000000              7.100000      0.590000\n",
       "max        5.000000            10.000000             10.000000      1.000000"
      ]
     },
     "execution_count": 604,
     "metadata": {},
     "output_type": "execute_result"
    }
   ],
   "source": [
    "# statistical analysis\n",
    "train.describe()"
   ]
  },
  {
   "cell_type": "code",
   "execution_count": 605,
   "metadata": {},
   "outputs": [
    {
     "data": {
      "text/html": [
       "<div>\n",
       "<style scoped>\n",
       "    .dataframe tbody tr th:only-of-type {\n",
       "        vertical-align: middle;\n",
       "    }\n",
       "\n",
       "    .dataframe tbody tr th {\n",
       "        vertical-align: top;\n",
       "    }\n",
       "\n",
       "    .dataframe thead th {\n",
       "        text-align: right;\n",
       "    }\n",
       "</style>\n",
       "<table border=\"1\" class=\"dataframe\">\n",
       "  <thead>\n",
       "    <tr style=\"text-align: right;\">\n",
       "      <th></th>\n",
       "      <th>Employee ID</th>\n",
       "      <th>Date of Joining</th>\n",
       "      <th>Gender</th>\n",
       "      <th>Company Type</th>\n",
       "      <th>WFH Setup Available</th>\n",
       "      <th>Designation</th>\n",
       "      <th>Resource Allocation</th>\n",
       "      <th>Mental Fatigue Score</th>\n",
       "      <th>Burn Rate</th>\n",
       "    </tr>\n",
       "  </thead>\n",
       "  <tbody>\n",
       "    <tr>\n",
       "      <th>0</th>\n",
       "      <td>fffe32003000360033003200</td>\n",
       "      <td>2008-09-30</td>\n",
       "      <td>Female</td>\n",
       "      <td>Service</td>\n",
       "      <td>No</td>\n",
       "      <td>2.0</td>\n",
       "      <td>3.0</td>\n",
       "      <td>3.8</td>\n",
       "      <td>0.16</td>\n",
       "    </tr>\n",
       "    <tr>\n",
       "      <th>1</th>\n",
       "      <td>fffe3700360033003500</td>\n",
       "      <td>2008-11-30</td>\n",
       "      <td>Male</td>\n",
       "      <td>Service</td>\n",
       "      <td>Yes</td>\n",
       "      <td>1.0</td>\n",
       "      <td>2.0</td>\n",
       "      <td>5.0</td>\n",
       "      <td>0.36</td>\n",
       "    </tr>\n",
       "    <tr>\n",
       "      <th>2</th>\n",
       "      <td>fffe32003400380032003900</td>\n",
       "      <td>2008-11-03</td>\n",
       "      <td>Male</td>\n",
       "      <td>Service</td>\n",
       "      <td>Yes</td>\n",
       "      <td>1.0</td>\n",
       "      <td>1.0</td>\n",
       "      <td>2.6</td>\n",
       "      <td>0.20</td>\n",
       "    </tr>\n",
       "    <tr>\n",
       "      <th>3</th>\n",
       "      <td>fffe31003900340031003600</td>\n",
       "      <td>2008-07-24</td>\n",
       "      <td>Female</td>\n",
       "      <td>Service</td>\n",
       "      <td>No</td>\n",
       "      <td>3.0</td>\n",
       "      <td>7.0</td>\n",
       "      <td>6.9</td>\n",
       "      <td>0.52</td>\n",
       "    </tr>\n",
       "    <tr>\n",
       "      <th>4</th>\n",
       "      <td>fffe3300350037003500</td>\n",
       "      <td>2008-11-26</td>\n",
       "      <td>Male</td>\n",
       "      <td>Product</td>\n",
       "      <td>Yes</td>\n",
       "      <td>2.0</td>\n",
       "      <td>4.0</td>\n",
       "      <td>3.6</td>\n",
       "      <td>0.29</td>\n",
       "    </tr>\n",
       "  </tbody>\n",
       "</table>\n",
       "</div>"
      ],
      "text/plain": [
       "                Employee ID Date of Joining  Gender Company Type  \\\n",
       "0  fffe32003000360033003200      2008-09-30  Female      Service   \n",
       "1      fffe3700360033003500      2008-11-30    Male      Service   \n",
       "2  fffe32003400380032003900      2008-11-03    Male      Service   \n",
       "3  fffe31003900340031003600      2008-07-24  Female      Service   \n",
       "4      fffe3300350037003500      2008-11-26    Male      Product   \n",
       "\n",
       "  WFH Setup Available  Designation  Resource Allocation  Mental Fatigue Score  \\\n",
       "0                  No          2.0                  3.0                   3.8   \n",
       "1                 Yes          1.0                  2.0                   5.0   \n",
       "2                 Yes          1.0                  1.0                   2.6   \n",
       "3                  No          3.0                  7.0                   6.9   \n",
       "4                 Yes          2.0                  4.0                   3.6   \n",
       "\n",
       "   Burn Rate  \n",
       "0       0.16  \n",
       "1       0.36  \n",
       "2       0.20  \n",
       "3       0.52  \n",
       "4       0.29  "
      ]
     },
     "execution_count": 605,
     "metadata": {},
     "output_type": "execute_result"
    }
   ],
   "source": [
    "train.head()"
   ]
  },
  {
   "cell_type": "code",
   "execution_count": 606,
   "metadata": {},
   "outputs": [
    {
     "data": {
      "text/plain": [
       "<matplotlib.axes._subplots.AxesSubplot at 0x1dd7a836e88>"
      ]
     },
     "execution_count": 606,
     "metadata": {},
     "output_type": "execute_result"
    },
    {
     "data": {
      "image/png": "[encoded data removed]",
      "text/plain": [
       "<Figure size 432x288 with 1 Axes>"
      ]
     },
     "metadata": {
      "needs_background": "light"
     },
     "output_type": "display_data"
    }
   ],
   "source": [
    "sns.countplot(train['Gender'])"
   ]
  },
  {
   "cell_type": "code",
   "execution_count": 607,
   "metadata": {},
   "outputs": [
    {
     "data": {
      "text/plain": [
       "<matplotlib.axes._subplots.AxesSubplot at 0x1dd793d3148>"
      ]
     },
     "execution_count": 607,
     "metadata": {},
     "output_type": "execute_result"
    },
    {
     "data": {
      "image/png": "[encoded data removed]",
      "text/plain": [
       "<Figure size 432x288 with 1 Axes>"
      ]
     },
     "metadata": {
      "needs_background": "light"
     },
     "output_type": "display_data"
    }
   ],
   "source": [
    "sns.countplot(train['Company Type'])"
   ]
  },
  {
   "cell_type": "code",
   "execution_count": 608,
   "metadata": {},
   "outputs": [
    {
     "data": {
      "text/plain": [
       "<matplotlib.axes._subplots.AxesSubplot at 0x1dd793ade08>"
      ]
     },
     "execution_count": 608,
     "metadata": {},
     "output_type": "execute_result"
    },
    {
     "data": {
      "image/png": "[encoded data removed]",
      "text/plain": [
       "<Figure size 432x288 with 1 Axes>"
      ]
     },
     "metadata": {
      "needs_background": "light"
     },
     "output_type": "display_data"
    }
   ],
   "source": [
    "sns.countplot(train['WFH Setup Available'])"
   ]
  },
  {
   "cell_type": "code",
   "execution_count": 609,
   "metadata": {},
   "outputs": [
    {
     "data": {
      "text/plain": [
       "<matplotlib.axes._subplots.AxesSubplot at 0x1dd793a7948>"
      ]
     },
     "execution_count": 609,
     "metadata": {},
     "output_type": "execute_result"
    },
    {
     "data": {
      "image/png": "[encoded data removed]",
      "text/plain": [
       "<Figure size 432x288 with 1 Axes>"
      ]
     },
     "metadata": {
      "needs_background": "light"
     },
     "output_type": "display_data"
    }
   ],
   "source": [
    "sns.countplot(train['WFH Setup Available'], hue=train['Gender'])"
   ]
  },
  {
   "cell_type": "code",
   "execution_count": 610,
   "metadata": {},
   "outputs": [
    {
     "data": {
      "text/plain": [
       "<matplotlib.axes._subplots.AxesSubplot at 0x1dd7792aec8>"
      ]
     },
     "execution_count": 610,
     "metadata": {},
     "output_type": "execute_result"
    },
    {
     "data": {
      "image/png": "[encoded data removed]",
      "text/plain": [
       "<Figure size 432x288 with 1 Axes>"
      ]
     },
     "metadata": {
      "needs_background": "light"
     },
     "output_type": "display_data"
    }
   ],
   "source": [
    "sns.countplot(train['Company Type'], hue=train['Gender'])"
   ]
  },
  {
   "cell_type": "code",
   "execution_count": 611,
   "metadata": {},
   "outputs": [
    {
     "data": {
      "text/plain": [
       "<matplotlib.axes._subplots.AxesSubplot at 0x1dd72cdde08>"
      ]
     },
     "execution_count": 611,
     "metadata": {},
     "output_type": "execute_result"
    },
    {
     "data": {
      "image/png": "[encoded data removed]",
      "text/plain": [
       "<Figure size 432x288 with 1 Axes>"
      ]
     },
     "metadata": {
      "needs_background": "light"
     },
     "output_type": "display_data"
    }
   ],
   "source": [
    "train['Resource Allocation'].hist()"
   ]
  },
  {
   "cell_type": "code",
   "execution_count": 612,
   "metadata": {},
   "outputs": [
    {
     "data": {
      "text/plain": [
       "<matplotlib.axes._subplots.AxesSubplot at 0x1dd72b204c8>"
      ]
     },
     "execution_count": 612,
     "metadata": {},
     "output_type": "execute_result"
    },
    {
     "data": {
      "image/png": "[encoded data removed]",
      "text/plain": [
       "<Figure size 432x288 with 1 Axes>"
      ]
     },
     "metadata": {
      "needs_background": "light"
     },
     "output_type": "display_data"
    }
   ],
   "source": [
    "train['Mental Fatigue Score'].hist()"
   ]
  },
  {
   "cell_type": "code",
   "execution_count": 613,
   "metadata": {},
   "outputs": [
    {
     "data": {
      "text/plain": [
       "<matplotlib.collections.PathCollection at 0x1dd72a4ae08>"
      ]
     },
     "execution_count": 613,
     "metadata": {},
     "output_type": "execute_result"
    },
    {
     "data": {
      "image/png": "[encoded data removed]",
      "text/plain": [
       "<Figure size 432x288 with 1 Axes>"
      ]
     },
     "metadata": {
      "needs_background": "light"
     },
     "output_type": "display_data"
    }
   ],
   "source": [
    "plt.scatter(train['Mental Fatigue Score'], train['Resource Allocation'])"
   ]
  },
  {
   "cell_type": "code",
   "execution_count": 614,
   "metadata": {},
   "outputs": [
    {
     "data": {
      "text/plain": [
       "0.7995632228418691"
      ]
     },
     "execution_count": 614,
     "metadata": {},
     "output_type": "execute_result"
    }
   ],
   "source": [
    "train['Mental Fatigue Score'].corr(train['Resource Allocation'])"
   ]
  },
  {
   "cell_type": "code",
   "execution_count": 615,
   "metadata": {},
   "outputs": [
    {
     "data": {
      "text/html": [
       "<div>\n",
       "<style scoped>\n",
       "    .dataframe tbody tr th:only-of-type {\n",
       "        vertical-align: middle;\n",
       "    }\n",
       "\n",
       "    .dataframe tbody tr th {\n",
       "        vertical-align: top;\n",
       "    }\n",
       "\n",
       "    .dataframe thead th {\n",
       "        text-align: right;\n",
       "    }\n",
       "</style>\n",
       "<table border=\"1\" class=\"dataframe\">\n",
       "  <thead>\n",
       "    <tr style=\"text-align: right;\">\n",
       "      <th></th>\n",
       "      <th>Designation</th>\n",
       "      <th>Resource Allocation</th>\n",
       "      <th>Mental Fatigue Score</th>\n",
       "      <th>Burn Rate</th>\n",
       "    </tr>\n",
       "  </thead>\n",
       "  <tbody>\n",
       "    <tr>\n",
       "      <th>Designation</th>\n",
       "      <td>1.000000</td>\n",
       "      <td>0.877893</td>\n",
       "      <td>0.691823</td>\n",
       "      <td>0.736412</td>\n",
       "    </tr>\n",
       "    <tr>\n",
       "      <th>Resource Allocation</th>\n",
       "      <td>0.877893</td>\n",
       "      <td>1.000000</td>\n",
       "      <td>0.799563</td>\n",
       "      <td>0.855005</td>\n",
       "    </tr>\n",
       "    <tr>\n",
       "      <th>Mental Fatigue Score</th>\n",
       "      <td>0.691823</td>\n",
       "      <td>0.799563</td>\n",
       "      <td>1.000000</td>\n",
       "      <td>0.944389</td>\n",
       "    </tr>\n",
       "    <tr>\n",
       "      <th>Burn Rate</th>\n",
       "      <td>0.736412</td>\n",
       "      <td>0.855005</td>\n",
       "      <td>0.944389</td>\n",
       "      <td>1.000000</td>\n",
       "    </tr>\n",
       "  </tbody>\n",
       "</table>\n",
       "</div>"
      ],
      "text/plain": [
       "                      Designation  Resource Allocation  Mental Fatigue Score  \\\n",
       "Designation              1.000000             0.877893              0.691823   \n",
       "Resource Allocation      0.877893             1.000000              0.799563   \n",
       "Mental Fatigue Score     0.691823             0.799563              1.000000   \n",
       "Burn Rate                0.736412             0.855005              0.944389   \n",
       "\n",
       "                      Burn Rate  \n",
       "Designation            0.736412  \n",
       "Resource Allocation    0.855005  \n",
       "Mental Fatigue Score   0.944389  \n",
       "Burn Rate              1.000000  "
      ]
     },
     "execution_count": 615,
     "metadata": {},
     "output_type": "execute_result"
    }
   ],
   "source": [
    "train.corr()"
   ]
  },
  {
   "cell_type": "code",
   "execution_count": 616,
   "metadata": {},
   "outputs": [],
   "source": [
    "#train.drop(train.index[14945], inplace=True) # removing the outliers index"
   ]
  },
  {
   "cell_type": "code",
   "execution_count": 617,
   "metadata": {},
   "outputs": [
    {
     "data": {
      "text/plain": [
       "<matplotlib.collections.PathCollection at 0x1dd729ff388>"
      ]
     },
     "execution_count": 617,
     "metadata": {},
     "output_type": "execute_result"
    },
    {
     "data": {
      "image/png": "[encoded data removed]",
      "text/plain": [
       "<Figure size 432x288 with 1 Axes>"
      ]
     },
     "metadata": {
      "needs_background": "light"
     },
     "output_type": "display_data"
    }
   ],
   "source": [
    "plt.scatter(train['Mental Fatigue Score'], train['Resource Allocation'])"
   ]
  },
  {
   "cell_type": "code",
   "execution_count": 618,
   "metadata": {},
   "outputs": [],
   "source": [
    "train = train.reset_index(drop=True)"
   ]
  },
  {
   "cell_type": "code",
   "execution_count": 619,
   "metadata": {},
   "outputs": [
    {
     "data": {
      "text/html": [
       "<div>\n",
       "<style scoped>\n",
       "    .dataframe tbody tr th:only-of-type {\n",
       "        vertical-align: middle;\n",
       "    }\n",
       "\n",
       "    .dataframe tbody tr th {\n",
       "        vertical-align: top;\n",
       "    }\n",
       "\n",
       "    .dataframe thead th {\n",
       "        text-align: right;\n",
       "    }\n",
       "</style>\n",
       "<table border=\"1\" class=\"dataframe\">\n",
       "  <thead>\n",
       "    <tr style=\"text-align: right;\">\n",
       "      <th></th>\n",
       "      <th>Employee ID</th>\n",
       "      <th>Date of Joining</th>\n",
       "      <th>Gender</th>\n",
       "      <th>Company Type</th>\n",
       "      <th>WFH Setup Available</th>\n",
       "      <th>Designation</th>\n",
       "      <th>Resource Allocation</th>\n",
       "      <th>Mental Fatigue Score</th>\n",
       "      <th>Burn Rate</th>\n",
       "    </tr>\n",
       "  </thead>\n",
       "  <tbody>\n",
       "    <tr>\n",
       "      <th>0</th>\n",
       "      <td>fffe32003000360033003200</td>\n",
       "      <td>2008-09-30</td>\n",
       "      <td>Female</td>\n",
       "      <td>Service</td>\n",
       "      <td>No</td>\n",
       "      <td>2.0</td>\n",
       "      <td>3.0</td>\n",
       "      <td>3.8</td>\n",
       "      <td>0.16</td>\n",
       "    </tr>\n",
       "    <tr>\n",
       "      <th>1</th>\n",
       "      <td>fffe3700360033003500</td>\n",
       "      <td>2008-11-30</td>\n",
       "      <td>Male</td>\n",
       "      <td>Service</td>\n",
       "      <td>Yes</td>\n",
       "      <td>1.0</td>\n",
       "      <td>2.0</td>\n",
       "      <td>5.0</td>\n",
       "      <td>0.36</td>\n",
       "    </tr>\n",
       "    <tr>\n",
       "      <th>2</th>\n",
       "      <td>fffe32003400380032003900</td>\n",
       "      <td>2008-11-03</td>\n",
       "      <td>Male</td>\n",
       "      <td>Service</td>\n",
       "      <td>Yes</td>\n",
       "      <td>1.0</td>\n",
       "      <td>1.0</td>\n",
       "      <td>2.6</td>\n",
       "      <td>0.20</td>\n",
       "    </tr>\n",
       "    <tr>\n",
       "      <th>3</th>\n",
       "      <td>fffe31003900340031003600</td>\n",
       "      <td>2008-07-24</td>\n",
       "      <td>Female</td>\n",
       "      <td>Service</td>\n",
       "      <td>No</td>\n",
       "      <td>3.0</td>\n",
       "      <td>7.0</td>\n",
       "      <td>6.9</td>\n",
       "      <td>0.52</td>\n",
       "    </tr>\n",
       "    <tr>\n",
       "      <th>4</th>\n",
       "      <td>fffe3300350037003500</td>\n",
       "      <td>2008-11-26</td>\n",
       "      <td>Male</td>\n",
       "      <td>Product</td>\n",
       "      <td>Yes</td>\n",
       "      <td>2.0</td>\n",
       "      <td>4.0</td>\n",
       "      <td>3.6</td>\n",
       "      <td>0.29</td>\n",
       "    </tr>\n",
       "  </tbody>\n",
       "</table>\n",
       "</div>"
      ],
      "text/plain": [
       "                Employee ID Date of Joining  Gender Company Type  \\\n",
       "0  fffe32003000360033003200      2008-09-30  Female      Service   \n",
       "1      fffe3700360033003500      2008-11-30    Male      Service   \n",
       "2  fffe32003400380032003900      2008-11-03    Male      Service   \n",
       "3  fffe31003900340031003600      2008-07-24  Female      Service   \n",
       "4      fffe3300350037003500      2008-11-26    Male      Product   \n",
       "\n",
       "  WFH Setup Available  Designation  Resource Allocation  Mental Fatigue Score  \\\n",
       "0                  No          2.0                  3.0                   3.8   \n",
       "1                 Yes          1.0                  2.0                   5.0   \n",
       "2                 Yes          1.0                  1.0                   2.6   \n",
       "3                  No          3.0                  7.0                   6.9   \n",
       "4                 Yes          2.0                  4.0                   3.6   \n",
       "\n",
       "   Burn Rate  \n",
       "0       0.16  \n",
       "1       0.36  \n",
       "2       0.20  \n",
       "3       0.52  \n",
       "4       0.29  "
      ]
     },
     "execution_count": 619,
     "metadata": {},
     "output_type": "execute_result"
    }
   ],
   "source": [
    "train.head()"
   ]
  },
  {
   "cell_type": "code",
   "execution_count": 620,
   "metadata": {},
   "outputs": [],
   "source": [
    "test_id = test['Employee ID']"
   ]
  },
  {
   "cell_type": "code",
   "execution_count": 621,
   "metadata": {},
   "outputs": [],
   "source": [
    "# droping columns\n",
    "train.drop(['Employee ID', 'Date of Joining'], axis=1, inplace=True)\n",
    "test.drop(['Employee ID', 'Date of Joining'], axis=1, inplace=True)"
   ]
  },
  {
   "cell_type": "markdown",
   "metadata": {},
   "source": [
    "Pre process the categorical variable"
   ]
  },
  {
   "cell_type": "code",
   "execution_count": 622,
   "metadata": {},
   "outputs": [],
   "source": [
    "# ordinal encoding for WFH Setup Available\n",
    "train['WFH Setup Available'] = train['WFH Setup Available'].map({'Yes':1, 'No':0})\n",
    "test['WFH Setup Available'] = test['WFH Setup Available'].map({'Yes':1, 'No':0})\n",
    "\n",
    "\n",
    "# using one hot encoding for no meaningful Ranking\n",
    "train = pd.get_dummies(data=train,columns=['Gender', 'Company Type'], drop_first=True)\n",
    "test = pd.get_dummies(data=test,columns=['Gender', 'Company Type'], drop_first=True)"
   ]
  },
  {
   "cell_type": "code",
   "execution_count": 646,
   "metadata": {},
   "outputs": [
    {
     "data": {
      "text/plain": [
       "count    18590.000000\n",
       "mean         0.452444\n",
       "std          0.197848\n",
       "min          0.000000\n",
       "25%          0.320000\n",
       "50%          0.450000\n",
       "75%          0.590000\n",
       "max          1.000000\n",
       "Name: Burn Rate, dtype: float64"
      ]
     },
     "execution_count": 646,
     "metadata": {},
     "output_type": "execute_result"
    }
   ],
   "source": [
    "train['Burn Rate'].describe()"
   ]
  },
  {
   "cell_type": "code",
   "execution_count": 625,
   "metadata": {},
   "outputs": [
    {
     "data": {
      "text/plain": [
       "count    18590.000000\n",
       "mean         5.732173\n",
       "std          1.920547\n",
       "min          0.000000\n",
       "25%          4.600000\n",
       "50%          5.900000\n",
       "75%          7.100000\n",
       "max         10.000000\n",
       "Name: Mental Fatigue Score, dtype: float64"
      ]
     },
     "execution_count": 625,
     "metadata": {},
     "output_type": "execute_result"
    }
   ],
   "source": [
    "train['Mental Fatigue Score'].describe()"
   ]
  },
  {
   "cell_type": "code",
   "execution_count": null,
   "metadata": {},
   "outputs": [],
   "source": []
  },
  {
   "cell_type": "code",
   "execution_count": null,
   "metadata": {},
   "outputs": [],
   "source": []
  },
  {
   "cell_type": "code",
   "execution_count": 631,
   "metadata": {},
   "outputs": [
    {
     "name": "stdout",
     "output_type": "stream",
     "text": [
      "(18590, 7)\n",
      "(12250, 6)\n"
     ]
    }
   ],
   "source": [
    "print(train.shape)\n",
    "print(test.shape)"
   ]
  },
  {
   "cell_type": "code",
   "execution_count": 632,
   "metadata": {},
   "outputs": [],
   "source": [
    "train = train[['Mental Fatigue Score','Resource Allocation','Designation','WFH Setup Available',\n",
    "              'Burn Rate', 'Gender_Male','Company Type_Service']]"
   ]
  },
  {
   "cell_type": "code",
   "execution_count": 633,
   "metadata": {},
   "outputs": [],
   "source": [
    "test = test[['Mental Fatigue Score','Resource Allocation','Designation','WFH Setup Available',\n",
    "             'Gender_Male','Company Type_Service']]"
   ]
  },
  {
   "cell_type": "markdown",
   "metadata": {},
   "source": [
    "# Modelling"
   ]
  },
  {
   "cell_type": "code",
   "execution_count": 634,
   "metadata": {},
   "outputs": [],
   "source": [
    "X = train.drop('Burn Rate', axis=1)\n",
    "y = train['Burn Rate']"
   ]
  },
  {
   "cell_type": "code",
   "execution_count": 648,
   "metadata": {},
   "outputs": [
    {
     "name": "stdout",
     "output_type": "stream",
     "text": [
      "0:\tlearn: 0.0425554\ttest: 0.0425554\ttest1: 0.0422352\tbest: 0.0422352 (0)\ttotal: 5.29ms\tremaining: 7.93s\n",
      "100:\tlearn: 0.9151283\ttest: 0.9151283\ttest1: 0.9139517\tbest: 0.9139517 (100)\ttotal: 510ms\tremaining: 7.06s\n",
      "200:\tlearn: 0.9268675\ttest: 0.9268675\ttest1: 0.9257619\tbest: 0.9257619 (200)\ttotal: 961ms\tremaining: 6.21s\n",
      "300:\tlearn: 0.9285053\ttest: 0.9285053\ttest1: 0.9271589\tbest: 0.9271589 (300)\ttotal: 1.67s\tremaining: 6.66s\n",
      "400:\tlearn: 0.9295564\ttest: 0.9295564\ttest1: 0.9278707\tbest: 0.9278707 (400)\ttotal: 2.15s\tremaining: 5.9s\n",
      "500:\tlearn: 0.9304012\ttest: 0.9304012\ttest1: 0.9283962\tbest: 0.9283962 (500)\ttotal: 2.63s\tremaining: 5.25s\n",
      "600:\tlearn: 0.9310264\ttest: 0.9310264\ttest1: 0.9286907\tbest: 0.9287016 (596)\ttotal: 3.12s\tremaining: 4.66s\n",
      "700:\tlearn: 0.9315234\ttest: 0.9315234\ttest1: 0.9289058\tbest: 0.9289058 (700)\ttotal: 3.64s\tremaining: 4.15s\n",
      "800:\tlearn: 0.9319277\ttest: 0.9319277\ttest1: 0.9290431\tbest: 0.9290527 (792)\ttotal: 4.15s\tremaining: 3.62s\n",
      "900:\tlearn: 0.9322806\ttest: 0.9322806\ttest1: 0.9291596\tbest: 0.9291628 (898)\ttotal: 4.65s\tremaining: 3.09s\n",
      "1000:\tlearn: 0.9326263\ttest: 0.9326263\ttest1: 0.9291683\tbest: 0.9291686 (991)\ttotal: 5.24s\tremaining: 2.61s\n",
      "1100:\tlearn: 0.9329138\ttest: 0.9329138\ttest1: 0.9291749\tbest: 0.9291819 (1091)\ttotal: 5.75s\tremaining: 2.08s\n",
      "Stopped by overfitting detector  (100 iterations wait)\n",
      "\n",
      "bestTest = 0.9291819147\n",
      "bestIteration = 1091\n",
      "\n",
      "Shrink model to first 1092 iterations.\n",
      "err:  0.929181915819133\n",
      "0:\tlearn: 0.0425512\ttest: 0.0425512\ttest1: 0.0417816\tbest: 0.0417816 (0)\ttotal: 6.71ms\tremaining: 10.1s\n",
      "100:\tlearn: 0.9154193\ttest: 0.9154193\ttest1: 0.9108530\tbest: 0.9108530 (100)\ttotal: 966ms\tremaining: 13.4s\n",
      "200:\tlearn: 0.9270391\ttest: 0.9270391\ttest1: 0.9236565\tbest: 0.9236565 (200)\ttotal: 1.48s\tremaining: 9.59s\n",
      "300:\tlearn: 0.9286817\ttest: 0.9286817\ttest1: 0.9253407\tbest: 0.9253407 (300)\ttotal: 1.99s\tremaining: 7.93s\n",
      "400:\tlearn: 0.9297660\ttest: 0.9297660\ttest1: 0.9261742\tbest: 0.9261742 (400)\ttotal: 2.66s\tremaining: 7.3s\n",
      "500:\tlearn: 0.9306214\ttest: 0.9306214\ttest1: 0.9265884\tbest: 0.9265890 (499)\ttotal: 3.15s\tremaining: 6.29s\n",
      "600:\tlearn: 0.9312312\ttest: 0.9312312\ttest1: 0.9268015\tbest: 0.9268015 (600)\ttotal: 3.87s\tremaining: 5.79s\n",
      "700:\tlearn: 0.9317190\ttest: 0.9317190\ttest1: 0.9269315\tbest: 0.9269360 (699)\ttotal: 4.37s\tremaining: 4.98s\n",
      "800:\tlearn: 0.9321762\ttest: 0.9321762\ttest1: 0.9269535\tbest: 0.9269703 (740)\ttotal: 5.13s\tremaining: 4.48s\n",
      "Stopped by overfitting detector  (100 iterations wait)\n",
      "\n",
      "bestTest = 0.9269702997\n",
      "bestIteration = 740\n",
      "\n",
      "Shrink model to first 741 iterations.\n",
      "err:  0.9269702996717989\n",
      "0:\tlearn: 0.0425661\ttest: 0.0425661\ttest1: 0.0422346\tbest: 0.0422346 (0)\ttotal: 4.54ms\tremaining: 6.81s\n",
      "100:\tlearn: 0.9150948\ttest: 0.9150948\ttest1: 0.9128794\tbest: 0.9128794 (100)\ttotal: 527ms\tremaining: 7.29s\n",
      "200:\tlearn: 0.9268163\ttest: 0.9268163\ttest1: 0.9259546\tbest: 0.9259546 (200)\ttotal: 1.04s\tremaining: 6.76s\n",
      "300:\tlearn: 0.9284528\ttest: 0.9284528\ttest1: 0.9274287\tbest: 0.9274287 (300)\ttotal: 1.76s\tremaining: 7s\n",
      "400:\tlearn: 0.9295786\ttest: 0.9295786\ttest1: 0.9281595\tbest: 0.9281595 (400)\ttotal: 2.27s\tremaining: 6.22s\n",
      "500:\tlearn: 0.9304156\ttest: 0.9304156\ttest1: 0.9286357\tbest: 0.9286357 (500)\ttotal: 3.01s\tremaining: 6s\n",
      "600:\tlearn: 0.9310025\ttest: 0.9310025\ttest1: 0.9288900\tbest: 0.9288900 (600)\ttotal: 3.48s\tremaining: 5.2s\n",
      "700:\tlearn: 0.9315227\ttest: 0.9315227\ttest1: 0.9290167\tbest: 0.9290167 (700)\ttotal: 4s\tremaining: 4.56s\n",
      "800:\tlearn: 0.9319430\ttest: 0.9319430\ttest1: 0.9290627\tbest: 0.9290682 (732)\ttotal: 4.49s\tremaining: 3.92s\n",
      "900:\tlearn: 0.9323318\ttest: 0.9323318\ttest1: 0.9291144\tbest: 0.9291205 (899)\ttotal: 5s\tremaining: 3.32s\n",
      "1000:\tlearn: 0.9326359\ttest: 0.9326359\ttest1: 0.9291472\tbest: 0.9291537 (992)\ttotal: 5.48s\tremaining: 2.73s\n",
      "1100:\tlearn: 0.9329245\ttest: 0.9329245\ttest1: 0.9291698\tbest: 0.9291772 (1080)\ttotal: 5.96s\tremaining: 2.16s\n",
      "Stopped by overfitting detector  (100 iterations wait)\n",
      "\n",
      "bestTest = 0.9291772408\n",
      "bestIteration = 1080\n",
      "\n",
      "Shrink model to first 1081 iterations.\n",
      "err:  0.9291772413072519\n",
      "0:\tlearn: 0.0425239\ttest: 0.0425239\ttest1: 0.0430858\tbest: 0.0430858 (0)\ttotal: 4.77ms\tremaining: 7.15s\n",
      "100:\tlearn: 0.9151270\ttest: 0.9151270\ttest1: 0.9153860\tbest: 0.9153860 (100)\ttotal: 678ms\tremaining: 9.39s\n",
      "200:\tlearn: 0.9268621\ttest: 0.9268621\ttest1: 0.9252342\tbest: 0.9252342 (200)\ttotal: 1.42s\tremaining: 9.2s\n",
      "300:\tlearn: 0.9285074\ttest: 0.9285074\ttest1: 0.9265574\tbest: 0.9265574 (300)\ttotal: 1.99s\tremaining: 7.93s\n",
      "400:\tlearn: 0.9295469\ttest: 0.9295469\ttest1: 0.9273397\tbest: 0.9273397 (400)\ttotal: 2.47s\tremaining: 6.76s\n",
      "500:\tlearn: 0.9304211\ttest: 0.9304211\ttest1: 0.9279102\tbest: 0.9279102 (500)\ttotal: 2.96s\tremaining: 5.89s\n",
      "600:\tlearn: 0.9310394\ttest: 0.9310394\ttest1: 0.9283038\tbest: 0.9283038 (600)\ttotal: 3.52s\tremaining: 5.27s\n",
      "700:\tlearn: 0.9315235\ttest: 0.9315235\ttest1: 0.9285281\tbest: 0.9285281 (700)\ttotal: 4.02s\tremaining: 4.59s\n",
      "800:\tlearn: 0.9319418\ttest: 0.9319418\ttest1: 0.9286692\tbest: 0.9286716 (797)\ttotal: 5.02s\tremaining: 4.38s\n",
      "900:\tlearn: 0.9322953\ttest: 0.9322953\ttest1: 0.9287946\tbest: 0.9287946 (900)\ttotal: 5.89s\tremaining: 3.92s\n",
      "1000:\tlearn: 0.9325976\ttest: 0.9325976\ttest1: 0.9288833\tbest: 0.9288864 (998)\ttotal: 6.84s\tremaining: 3.41s\n",
      "1100:\tlearn: 0.9328897\ttest: 0.9328897\ttest1: 0.9289472\tbest: 0.9289512 (1098)\ttotal: 7.77s\tremaining: 2.81s\n",
      "1200:\tlearn: 0.9331673\ttest: 0.9331673\ttest1: 0.9290072\tbest: 0.9290084 (1193)\ttotal: 8.54s\tremaining: 2.13s\n",
      "1300:\tlearn: 0.9334175\ttest: 0.9334175\ttest1: 0.9289962\tbest: 0.9290192 (1269)\ttotal: 9.15s\tremaining: 1.4s\n",
      "1400:\tlearn: 0.9336542\ttest: 0.9336542\ttest1: 0.9290507\tbest: 0.9290511 (1399)\ttotal: 9.7s\tremaining: 685ms\n",
      "1499:\tlearn: 0.9338708\ttest: 0.9338708\ttest1: 0.9290609\tbest: 0.9290624 (1497)\ttotal: 10.3s\tremaining: 0us\n",
      "\n",
      "bestTest = 0.929062398\n",
      "bestIteration = 1497\n",
      "\n",
      "Shrink model to first 1498 iterations.\n",
      "err:  0.9290623995615663\n",
      "0:\tlearn: 0.0425103\ttest: 0.0425103\ttest1: 0.0424077\tbest: 0.0424077 (0)\ttotal: 4.81ms\tremaining: 7.21s\n",
      "100:\tlearn: 0.9146126\ttest: 0.9146126\ttest1: 0.9179136\tbest: 0.9179136 (100)\ttotal: 523ms\tremaining: 7.25s\n",
      "200:\tlearn: 0.9263582\ttest: 0.9263582\ttest1: 0.9294610\tbest: 0.9294610 (200)\ttotal: 1.05s\tremaining: 6.8s\n",
      "300:\tlearn: 0.9280470\ttest: 0.9280470\ttest1: 0.9308180\tbest: 0.9308180 (300)\ttotal: 1.64s\tremaining: 6.52s\n",
      "400:\tlearn: 0.9290743\ttest: 0.9290743\ttest1: 0.9316656\tbest: 0.9316656 (400)\ttotal: 2.46s\tremaining: 6.74s\n",
      "500:\tlearn: 0.9299056\ttest: 0.9299056\ttest1: 0.9322615\tbest: 0.9322615 (500)\ttotal: 3.2s\tremaining: 6.38s\n",
      "600:\tlearn: 0.9305050\ttest: 0.9305050\ttest1: 0.9326147\tbest: 0.9326147 (600)\ttotal: 4.04s\tremaining: 6.05s\n",
      "700:\tlearn: 0.9310215\ttest: 0.9310215\ttest1: 0.9328345\tbest: 0.9328345 (700)\ttotal: 4.61s\tremaining: 5.25s\n",
      "800:\tlearn: 0.9314292\ttest: 0.9314292\ttest1: 0.9329913\tbest: 0.9329913 (800)\ttotal: 5.11s\tremaining: 4.46s\n",
      "900:\tlearn: 0.9317993\ttest: 0.9317993\ttest1: 0.9330810\tbest: 0.9330852 (894)\ttotal: 5.74s\tremaining: 3.82s\n",
      "1000:\tlearn: 0.9321254\ttest: 0.9321254\ttest1: 0.9331165\tbest: 0.9331236 (999)\ttotal: 6.38s\tremaining: 3.18s\n",
      "1100:\tlearn: 0.9324203\ttest: 0.9324203\ttest1: 0.9331884\tbest: 0.9331887 (1098)\ttotal: 7.05s\tremaining: 2.55s\n",
      "1200:\tlearn: 0.9326989\ttest: 0.9326989\ttest1: 0.9332398\tbest: 0.9332398 (1200)\ttotal: 7.72s\tremaining: 1.92s\n",
      "1300:\tlearn: 0.9329587\ttest: 0.9329587\ttest1: 0.9332266\tbest: 0.9332500 (1226)\ttotal: 8.66s\tremaining: 1.32s\n",
      "Stopped by overfitting detector  (100 iterations wait)\n",
      "\n",
      "bestTest = 0.9332500314\n",
      "bestIteration = 1226\n",
      "\n",
      "Shrink model to first 1227 iterations.\n",
      "err:  0.9332500311462092\n",
      "0:\tlearn: 0.0426044\ttest: 0.0426044\ttest1: 0.0429415\tbest: 0.0429415 (0)\ttotal: 4.57ms\tremaining: 6.84s\n",
      "100:\tlearn: 0.9154904\ttest: 0.9154904\ttest1: 0.9124594\tbest: 0.9124594 (100)\ttotal: 599ms\tremaining: 8.29s\n",
      "200:\tlearn: 0.9271283\ttest: 0.9271283\ttest1: 0.9235424\tbest: 0.9235424 (200)\ttotal: 1.33s\tremaining: 8.58s\n",
      "300:\tlearn: 0.9287911\ttest: 0.9287911\ttest1: 0.9248451\tbest: 0.9248451 (300)\ttotal: 2.05s\tremaining: 8.18s\n",
      "400:\tlearn: 0.9298117\ttest: 0.9298117\ttest1: 0.9255145\tbest: 0.9255145 (400)\ttotal: 2.86s\tremaining: 7.85s\n",
      "500:\tlearn: 0.9306512\ttest: 0.9306512\ttest1: 0.9260092\tbest: 0.9260100 (499)\ttotal: 3.58s\tremaining: 7.14s\n",
      "600:\tlearn: 0.9312452\ttest: 0.9312452\ttest1: 0.9262936\tbest: 0.9262936 (600)\ttotal: 4.28s\tremaining: 6.41s\n"
     ]
    },
    {
     "name": "stdout",
     "output_type": "stream",
     "text": [
      "700:\tlearn: 0.9317424\ttest: 0.9317424\ttest1: 0.9265179\tbest: 0.9265179 (700)\ttotal: 5.05s\tremaining: 5.75s\n",
      "800:\tlearn: 0.9321884\ttest: 0.9321884\ttest1: 0.9266843\tbest: 0.9266867 (799)\ttotal: 5.92s\tremaining: 5.17s\n",
      "900:\tlearn: 0.9325528\ttest: 0.9325528\ttest1: 0.9267548\tbest: 0.9267551 (891)\ttotal: 6.9s\tremaining: 4.59s\n",
      "1000:\tlearn: 0.9328914\ttest: 0.9328914\ttest1: 0.9267789\tbest: 0.9268065 (962)\ttotal: 7.74s\tremaining: 3.86s\n",
      "1100:\tlearn: 0.9331846\ttest: 0.9331846\ttest1: 0.9268358\tbest: 0.9268429 (1088)\ttotal: 8.62s\tremaining: 3.12s\n",
      "1200:\tlearn: 0.9334702\ttest: 0.9334702\ttest1: 0.9268523\tbest: 0.9268619 (1172)\ttotal: 9.46s\tremaining: 2.35s\n",
      "Stopped by overfitting detector  (100 iterations wait)\n",
      "\n",
      "bestTest = 0.9268618787\n",
      "bestIteration = 1172\n",
      "\n",
      "Shrink model to first 1173 iterations.\n",
      "err:  0.9268618783023514\n",
      "0:\tlearn: 0.0425487\ttest: 0.0425487\ttest1: 0.0419393\tbest: 0.0419393 (0)\ttotal: 5.14ms\tremaining: 7.7s\n",
      "100:\tlearn: 0.9148782\ttest: 0.9148782\ttest1: 0.9162808\tbest: 0.9162808 (100)\ttotal: 773ms\tremaining: 10.7s\n",
      "200:\tlearn: 0.9265762\ttest: 0.9265762\ttest1: 0.9282728\tbest: 0.9282728 (200)\ttotal: 1.56s\tremaining: 10.1s\n",
      "300:\tlearn: 0.9282245\ttest: 0.9282245\ttest1: 0.9296745\tbest: 0.9296745 (300)\ttotal: 2.35s\tremaining: 9.36s\n",
      "400:\tlearn: 0.9293177\ttest: 0.9293177\ttest1: 0.9304445\tbest: 0.9304445 (400)\ttotal: 3.04s\tremaining: 8.35s\n",
      "500:\tlearn: 0.9301355\ttest: 0.9301355\ttest1: 0.9309199\tbest: 0.9309199 (500)\ttotal: 3.74s\tremaining: 7.47s\n",
      "600:\tlearn: 0.9307383\ttest: 0.9307383\ttest1: 0.9311577\tbest: 0.9311590 (598)\ttotal: 4.52s\tremaining: 6.76s\n",
      "700:\tlearn: 0.9312460\ttest: 0.9312460\ttest1: 0.9312913\tbest: 0.9312913 (700)\ttotal: 5.22s\tremaining: 5.95s\n",
      "800:\tlearn: 0.9316646\ttest: 0.9316646\ttest1: 0.9313402\tbest: 0.9313433 (757)\ttotal: 5.88s\tremaining: 5.13s\n",
      "900:\tlearn: 0.9320571\ttest: 0.9320571\ttest1: 0.9313271\tbest: 0.9313504 (808)\ttotal: 6.56s\tremaining: 4.36s\n",
      "Stopped by overfitting detector  (100 iterations wait)\n",
      "\n",
      "bestTest = 0.9313503652\n",
      "bestIteration = 808\n",
      "\n",
      "Shrink model to first 809 iterations.\n",
      "err:  0.9313503650385808\n",
      "0:\tlearn: 0.0425388\ttest: 0.0425388\ttest1: 0.0420393\tbest: 0.0420393 (0)\ttotal: 5.02ms\tremaining: 7.53s\n",
      "100:\tlearn: 0.9150645\ttest: 0.9150645\ttest1: 0.9130691\tbest: 0.9130691 (100)\ttotal: 674ms\tremaining: 9.33s\n",
      "200:\tlearn: 0.9267159\ttest: 0.9267159\ttest1: 0.9262995\tbest: 0.9262995 (200)\ttotal: 1.36s\tremaining: 8.8s\n",
      "300:\tlearn: 0.9284021\ttest: 0.9284021\ttest1: 0.9277972\tbest: 0.9277972 (300)\ttotal: 2.04s\tremaining: 8.13s\n",
      "400:\tlearn: 0.9294989\ttest: 0.9294989\ttest1: 0.9285312\tbest: 0.9285312 (400)\ttotal: 2.85s\tremaining: 7.81s\n",
      "500:\tlearn: 0.9303649\ttest: 0.9303649\ttest1: 0.9288111\tbest: 0.9288111 (500)\ttotal: 3.48s\tremaining: 6.94s\n",
      "600:\tlearn: 0.9310249\ttest: 0.9310249\ttest1: 0.9289245\tbest: 0.9289256 (583)\ttotal: 4.08s\tremaining: 6.11s\n",
      "700:\tlearn: 0.9315191\ttest: 0.9315191\ttest1: 0.9289810\tbest: 0.9289870 (699)\ttotal: 4.59s\tremaining: 5.24s\n",
      "800:\tlearn: 0.9319526\ttest: 0.9319526\ttest1: 0.9289722\tbest: 0.9289893 (721)\ttotal: 5.1s\tremaining: 4.45s\n",
      "Stopped by overfitting detector  (100 iterations wait)\n",
      "\n",
      "bestTest = 0.9289893316\n",
      "bestIteration = 721\n",
      "\n",
      "Shrink model to first 722 iterations.\n",
      "err:  0.9289893322860997\n",
      "0:\tlearn: 0.0425360\ttest: 0.0425360\ttest1: 0.0414965\tbest: 0.0414965 (0)\ttotal: 4.69ms\tremaining: 7.03s\n",
      "100:\tlearn: 0.9153663\ttest: 0.9153663\ttest1: 0.9158005\tbest: 0.9158005 (100)\ttotal: 492ms\tremaining: 6.82s\n",
      "200:\tlearn: 0.9270132\ttest: 0.9270132\ttest1: 0.9248135\tbest: 0.9248135 (200)\ttotal: 1.04s\tremaining: 6.74s\n",
      "300:\tlearn: 0.9286334\ttest: 0.9286334\ttest1: 0.9259360\tbest: 0.9259360 (300)\ttotal: 1.68s\tremaining: 6.7s\n",
      "400:\tlearn: 0.9296539\ttest: 0.9296539\ttest1: 0.9266357\tbest: 0.9266357 (400)\ttotal: 2.37s\tremaining: 6.48s\n",
      "500:\tlearn: 0.9304742\ttest: 0.9304742\ttest1: 0.9272351\tbest: 0.9272351 (500)\ttotal: 2.91s\tremaining: 5.81s\n",
      "600:\tlearn: 0.9310636\ttest: 0.9310636\ttest1: 0.9275824\tbest: 0.9275824 (600)\ttotal: 3.44s\tremaining: 5.14s\n",
      "700:\tlearn: 0.9315396\ttest: 0.9315396\ttest1: 0.9277771\tbest: 0.9277771 (700)\ttotal: 3.93s\tremaining: 4.48s\n",
      "800:\tlearn: 0.9319537\ttest: 0.9319537\ttest1: 0.9278724\tbest: 0.9278782 (797)\ttotal: 4.54s\tremaining: 3.96s\n",
      "900:\tlearn: 0.9323181\ttest: 0.9323181\ttest1: 0.9279378\tbest: 0.9279378 (900)\ttotal: 5.15s\tremaining: 3.42s\n",
      "1000:\tlearn: 0.9326451\ttest: 0.9326451\ttest1: 0.9280065\tbest: 0.9280074 (973)\ttotal: 5.74s\tremaining: 2.86s\n",
      "1100:\tlearn: 0.9329415\ttest: 0.9329415\ttest1: 0.9280122\tbest: 0.9280206 (1014)\ttotal: 6.33s\tremaining: 2.29s\n",
      "Stopped by overfitting detector  (100 iterations wait)\n",
      "\n",
      "bestTest = 0.9280206074\n",
      "bestIteration = 1014\n",
      "\n",
      "Shrink model to first 1015 iterations.\n",
      "err:  0.9280206061162586\n",
      "0:\tlearn: 0.0424975\ttest: 0.0424975\ttest1: 0.0417741\tbest: 0.0417741 (0)\ttotal: 5.79ms\tremaining: 8.68s\n",
      "100:\tlearn: 0.9150479\ttest: 0.9150479\ttest1: 0.9166947\tbest: 0.9166947 (100)\ttotal: 534ms\tremaining: 7.39s\n",
      "200:\tlearn: 0.9268048\ttest: 0.9268048\ttest1: 0.9269303\tbest: 0.9269303 (200)\ttotal: 1.14s\tremaining: 7.38s\n",
      "300:\tlearn: 0.9284431\ttest: 0.9284431\ttest1: 0.9279001\tbest: 0.9279001 (300)\ttotal: 1.7s\tremaining: 6.79s\n",
      "400:\tlearn: 0.9294874\ttest: 0.9294874\ttest1: 0.9284180\tbest: 0.9284180 (400)\ttotal: 2.24s\tremaining: 6.14s\n",
      "500:\tlearn: 0.9303230\ttest: 0.9303230\ttest1: 0.9287823\tbest: 0.9287823 (500)\ttotal: 2.75s\tremaining: 5.48s\n",
      "600:\tlearn: 0.9309520\ttest: 0.9309520\ttest1: 0.9289090\tbest: 0.9289126 (598)\ttotal: 3.25s\tremaining: 4.86s\n",
      "700:\tlearn: 0.9314925\ttest: 0.9314925\ttest1: 0.9289218\tbest: 0.9289449 (657)\ttotal: 3.78s\tremaining: 4.31s\n",
      "Stopped by overfitting detector  (100 iterations wait)\n",
      "\n",
      "bestTest = 0.9289448772\n",
      "bestIteration = 657\n",
      "\n",
      "Shrink model to first 658 iterations.\n",
      "err:  0.9289448773539339\n"
     ]
    }
   ],
   "source": [
    "from sklearn.metrics import accuracy_score,confusion_matrix,log_loss\n",
    "from sklearn.model_selection import GroupKFold, RepeatedKFold\n",
    "errcb=[]\n",
    "y_pred_totcb=[]\n",
    "fold= KFold(n_splits=10, shuffle=True, random_state=1)#0#1\n",
    "i=1\n",
    "for train_index, test_index in fold.split(X):\n",
    "    X_train, X_test = X.iloc[train_index], X.iloc[test_index]\n",
    "    y_train, y_test = y[train_index], y[test_index]\n",
    "    m = CatBoostRegressor(eval_metric='R2',subsample=0.7,bagging_temperature=0.9, l2_leaf_reg=2, n_estimators=1500, learning_rate=0.025)\n",
    "    #CatBoostRegressor(eval_metric='R2',subsample=0.7, l2_leaf_reg=2)\n",
    "    m.fit(X_train,y_train,eval_set=[(X_train,y_train),(X_test, y_test)],verbose=100, early_stopping_rounds=100)#,verbose=100)\n",
    "    preds=m.predict(X_test)\n",
    "    print(\"err: \",r2_score(y_test,preds))\n",
    "    errcb.append(r2_score(y_test,preds))\n",
    "    p = m.predict(test)\n",
    "    y_pred_totcb.append(p)"
   ]
  },
  {
   "cell_type": "code",
   "execution_count": 649,
   "metadata": {},
   "outputs": [
    {
     "data": {
      "text/plain": [
       "0.9291808946603183"
      ]
     },
     "execution_count": 649,
     "metadata": {},
     "output_type": "execute_result"
    }
   ],
   "source": [
    "np.mean(errcb)"
   ]
  },
  {
   "cell_type": "code",
   "execution_count": 672,
   "metadata": {},
   "outputs": [
    {
     "data": {
      "image/png": "[encoded data removed]",
      "text/plain": [
       "<Figure size 1440x720 with 1 Axes>"
      ]
     },
     "metadata": {
      "needs_background": "light"
     },
     "output_type": "display_data"
    }
   ],
   "source": [
    "fea_imp = pd.DataFrame({'imp':m.feature_importances_, 'col': X.columns})\n",
    "fea_imp = fea_imp.sort_values(['imp', 'col'], ascending=False).iloc[-30:]\n",
    "_ = fea_imp.plot(kind='barh', x='col', y='imp', figsize=(20, 10))\n",
    "plt.savefig('catboost_feature_importance.png')    "
   ]
  },
  {
   "cell_type": "code",
   "execution_count": 673,
   "metadata": {},
   "outputs": [],
   "source": [
    "d = {\"Employee ID\": test_id, 'Burn Rate': abs((np.mean(y_pred_totcb, 0)))}\n",
    "test_predictions = pd.DataFrame(data=d)\n",
    "test_predictions = test_predictions[[\"Employee ID\", 'Burn Rate']]"
   ]
  },
  {
   "cell_type": "code",
   "execution_count": 674,
   "metadata": {},
   "outputs": [
    {
     "data": {
      "text/html": [
       "<div>\n",
       "<style scoped>\n",
       "    .dataframe tbody tr th:only-of-type {\n",
       "        vertical-align: middle;\n",
       "    }\n",
       "\n",
       "    .dataframe tbody tr th {\n",
       "        vertical-align: top;\n",
       "    }\n",
       "\n",
       "    .dataframe thead th {\n",
       "        text-align: right;\n",
       "    }\n",
       "</style>\n",
       "<table border=\"1\" class=\"dataframe\">\n",
       "  <thead>\n",
       "    <tr style=\"text-align: right;\">\n",
       "      <th></th>\n",
       "      <th>Employee ID</th>\n",
       "      <th>Burn Rate</th>\n",
       "    </tr>\n",
       "  </thead>\n",
       "  <tbody>\n",
       "    <tr>\n",
       "      <th>0</th>\n",
       "      <td>fffe31003300390039003000</td>\n",
       "      <td>0.617920</td>\n",
       "    </tr>\n",
       "    <tr>\n",
       "      <th>1</th>\n",
       "      <td>fffe31003300310037003800</td>\n",
       "      <td>0.355694</td>\n",
       "    </tr>\n",
       "    <tr>\n",
       "      <th>2</th>\n",
       "      <td>fffe33003400380035003900</td>\n",
       "      <td>0.425715</td>\n",
       "    </tr>\n",
       "    <tr>\n",
       "      <th>3</th>\n",
       "      <td>fffe3100370039003200</td>\n",
       "      <td>0.378485</td>\n",
       "    </tr>\n",
       "    <tr>\n",
       "      <th>4</th>\n",
       "      <td>fffe32003600390036003700</td>\n",
       "      <td>0.531268</td>\n",
       "    </tr>\n",
       "  </tbody>\n",
       "</table>\n",
       "</div>"
      ],
      "text/plain": [
       "                Employee ID  Burn Rate\n",
       "0  fffe31003300390039003000   0.617920\n",
       "1  fffe31003300310037003800   0.355694\n",
       "2  fffe33003400380035003900   0.425715\n",
       "3      fffe3100370039003200   0.378485\n",
       "4  fffe32003600390036003700   0.531268"
      ]
     },
     "execution_count": 674,
     "metadata": {},
     "output_type": "execute_result"
    }
   ],
   "source": [
    "test_predictions.head()"
   ]
  },
  {
   "cell_type": "code",
   "execution_count": 675,
   "metadata": {},
   "outputs": [],
   "source": [
    "test_predictions.to_csv('cat28.csv', index=False)"
   ]
  },
  {
   "cell_type": "markdown",
   "metadata": {},
   "source": [
    "# Xgboost Model"
   ]
  },
  {
   "cell_type": "code",
   "execution_count": null,
   "metadata": {},
   "outputs": [],
   "source": [
    "from xgboost import XGBRegressor"
   ]
  },
  {
   "cell_type": "code",
   "execution_count": null,
   "metadata": {},
   "outputs": [],
   "source": [
    "from sklearn.metrics import accuracy_score,confusion_matrix,log_loss\n",
    "from sklearn.model_selection import GroupKFold, RepeatedKFold\n",
    "errcb=[]\n",
    "y_pred_totcb=[]\n",
    "fold= KFold(n_splits=10, shuffle=True, random_state=10)#25\n",
    "i=1\n",
    "for train_index, test_index in fold.split(X):\n",
    "    X_train, X_test = X.iloc[train_index], X.iloc[test_index]\n",
    "    y_train, y_test = y[train_index], y[test_index]\n",
    "    m =XGBRegressor(learning_rate=0.1, n_estimator=1500)\n",
    "    m.fit(X_train,y_train,eval_set=[(X_train,y_train),(X_test, y_test)],verbose=100, early_stopping_rounds=100)#,verbose=100)\n",
    "    preds=m.predict(X_test)\n",
    "    print(\"err: \",r2_score(y_test,preds))\n",
    "    errcb.append(r2_score(y_test,preds))\n",
    "    p = m.predict(test)\n",
    "    y_pred_totcb.append(p)"
   ]
  },
  {
   "cell_type": "code",
   "execution_count": null,
   "metadata": {},
   "outputs": [],
   "source": [
    "np.mean(errcb)"
   ]
  },
  {
   "cell_type": "code",
   "execution_count": null,
   "metadata": {},
   "outputs": [],
   "source": [
    "fea_imp = pd.DataFrame({'imp':m.feature_importances_, 'col': X.columns})\n",
    "fea_imp = fea_imp.sort_values(['imp', 'col'], ascending=False).iloc[-30:]\n",
    "_ = fea_imp.plot(kind='barh', x='col', y='imp', figsize=(20, 10))\n",
    "plt.savefig('catboost_feature_importance.png')    "
   ]
  },
  {
   "cell_type": "code",
   "execution_count": null,
   "metadata": {},
   "outputs": [],
   "source": [
    "d = {\"Employee ID\": test_id, 'Burn Rate': abs(np.mean(y_pred_totcb, 0))}\n",
    "test_predictions = pd.DataFrame(data=d)\n",
    "test_predictions = test_predictions[[\"Employee ID\", 'Burn Rate']]"
   ]
  },
  {
   "cell_type": "code",
   "execution_count": null,
   "metadata": {},
   "outputs": [],
   "source": [
    "test_predictions.to_csv('xgb17.csv', index=False)"
   ]
  },
  {
   "cell_type": "markdown",
   "metadata": {},
   "source": [
    "# Ensemble"
   ]
  },
  {
   "cell_type": "code",
   "execution_count": null,
   "metadata": {},
   "outputs": [],
   "source": [
    "a = pd.read_csv('cat28.csv')\n",
    "b = pd.read_csv('xgb17.csv')"
   ]
  },
  {
   "cell_type": "code",
   "execution_count": null,
   "metadata": {},
   "outputs": [],
   "source": [
    "a['Burn Rate'].corr(b['Burn Rate'])"
   ]
  },
  {
   "cell_type": "code",
   "execution_count": null,
   "metadata": {},
   "outputs": [],
   "source": [
    "a['Burn Rate'] = 0.65 * a['Burn Rate'] + 0.35 * b['Burn Rate']"
   ]
  },
  {
   "cell_type": "code",
   "execution_count": null,
   "metadata": {},
   "outputs": [],
   "source": [
    "a.to_csv('stack8.csv', index=False)"
   ]
  }
 ],
 "metadata": {
  "kernelspec": {
   "display_name": "Python 3",
   "language": "python",
   "name": "python3"
  },
  "language_info": {
   "codemirror_mode": {
    "name": "ipython",
    "version": 3
   },
   "file_extension": ".py",
   "mimetype": "text/x-python",
   "name": "python",
   "nbconvert_exporter": "python",
   "pygments_lexer": "ipython3",
   "version": "3.7.6"
  }
 },
 "nbformat": 4,
 "nbformat_minor": 4
}
